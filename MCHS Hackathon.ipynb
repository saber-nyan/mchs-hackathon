{
 "cells": [
  {
   "cell_type": "code",
   "execution_count": 1,
   "metadata": {},
   "outputs": [],
   "source": [
    "import pandas as pd\n",
    "import numpy as np\n",
    "import lightgbm as lgb\n",
    "import tldextract\n",
    "import wordninja\n",
    "import pickle\n",
    "\n",
    "from collections import Counter\n",
    "from sklearn.model_selection import train_test_split, cross_val_score\n",
    "from sklearn.neighbors import KNeighborsClassifier\n",
    "from sklearn.tree import DecisionTreeClassifier\n",
    "from sklearn.svm import SVC\n",
    "from sklearn.linear_model import LogisticRegression\n",
    "from sklearn.ensemble import RandomForestClassifier\n",
    "from sklearn.utils import shuffle\n",
    "from sklearn.metrics import roc_auc_score"
   ]
  },
  {
   "cell_type": "markdown",
   "metadata": {},
   "source": [
    "# Грузим данные"
   ]
  },
  {
   "cell_type": "code",
   "execution_count": 2,
   "metadata": {},
   "outputs": [],
   "source": [
    "data = pd.read_csv('big_dataset', sep='\\t', header=None, names=['url', 'target'])"
   ]
  },
  {
   "cell_type": "code",
   "execution_count": 3,
   "metadata": {},
   "outputs": [
    {
     "data": {
      "text/html": [
       "<div>\n",
       "<style scoped>\n",
       "    .dataframe tbody tr th:only-of-type {\n",
       "        vertical-align: middle;\n",
       "    }\n",
       "\n",
       "    .dataframe tbody tr th {\n",
       "        vertical-align: top;\n",
       "    }\n",
       "\n",
       "    .dataframe thead th {\n",
       "        text-align: right;\n",
       "    }\n",
       "</style>\n",
       "<table border=\"1\" class=\"dataframe\">\n",
       "  <thead>\n",
       "    <tr style=\"text-align: right;\">\n",
       "      <th></th>\n",
       "      <th>url</th>\n",
       "      <th>target</th>\n",
       "    </tr>\n",
       "  </thead>\n",
       "  <tbody>\n",
       "    <tr>\n",
       "      <th>0</th>\n",
       "      <td>bcegjkbeggjm.info</td>\n",
       "      <td>1</td>\n",
       "    </tr>\n",
       "    <tr>\n",
       "      <th>1</th>\n",
       "      <td>farmandfleet.com</td>\n",
       "      <td>0</td>\n",
       "    </tr>\n",
       "    <tr>\n",
       "      <th>2</th>\n",
       "      <td>sought-perl.pro</td>\n",
       "      <td>1</td>\n",
       "    </tr>\n",
       "    <tr>\n",
       "      <th>3</th>\n",
       "      <td>hofunokpicm.kz</td>\n",
       "      <td>1</td>\n",
       "    </tr>\n",
       "    <tr>\n",
       "      <th>4</th>\n",
       "      <td>datasysco.ir</td>\n",
       "      <td>0</td>\n",
       "    </tr>\n",
       "    <tr>\n",
       "      <th>...</th>\n",
       "      <td>...</td>\n",
       "      <td>...</td>\n",
       "    </tr>\n",
       "    <tr>\n",
       "      <th>25995</th>\n",
       "      <td>ymdiestnessbiophysicalohax.com</td>\n",
       "      <td>1</td>\n",
       "    </tr>\n",
       "    <tr>\n",
       "      <th>25996</th>\n",
       "      <td>kkbluxexnbhejavnmkfy.com</td>\n",
       "      <td>1</td>\n",
       "    </tr>\n",
       "    <tr>\n",
       "      <th>25997</th>\n",
       "      <td>mswxtlhqor.cc</td>\n",
       "      <td>1</td>\n",
       "    </tr>\n",
       "    <tr>\n",
       "      <th>25998</th>\n",
       "      <td>skrynya.ua</td>\n",
       "      <td>0</td>\n",
       "    </tr>\n",
       "    <tr>\n",
       "      <th>25999</th>\n",
       "      <td>dcggkmdeigko.com</td>\n",
       "      <td>1</td>\n",
       "    </tr>\n",
       "  </tbody>\n",
       "</table>\n",
       "<p>26000 rows × 2 columns</p>\n",
       "</div>"
      ],
      "text/plain": [
       "                                  url  target\n",
       "0                   bcegjkbeggjm.info       1\n",
       "1                    farmandfleet.com       0\n",
       "2                     sought-perl.pro       1\n",
       "3                      hofunokpicm.kz       1\n",
       "4                        datasysco.ir       0\n",
       "...                               ...     ...\n",
       "25995  ymdiestnessbiophysicalohax.com       1\n",
       "25996        kkbluxexnbhejavnmkfy.com       1\n",
       "25997                   mswxtlhqor.cc       1\n",
       "25998                      skrynya.ua       0\n",
       "25999                dcggkmdeigko.com       1\n",
       "\n",
       "[26000 rows x 2 columns]"
      ]
     },
     "execution_count": 3,
     "metadata": {},
     "output_type": "execute_result"
    }
   ],
   "source": [
    "data = shuffle(data)\n",
    "data.reset_index(inplace=True, drop=True)\n",
    "data"
   ]
  },
  {
   "cell_type": "markdown",
   "metadata": {},
   "source": [
    "# Экстраким фичи "
   ]
  },
  {
   "cell_type": "markdown",
   "metadata": {},
   "source": [
    "### Длинна "
   ]
  },
  {
   "cell_type": "code",
   "execution_count": 4,
   "metadata": {},
   "outputs": [],
   "source": [
    "data['len'] = data.url.apply(lambda x: len(x))"
   ]
  },
  {
   "cell_type": "code",
   "execution_count": 5,
   "metadata": {},
   "outputs": [
    {
     "data": {
      "image/png": "[encoded data removed]",
      "text/plain": [
       "<Figure size 432x288 with 1 Axes>"
      ]
     },
     "metadata": {
      "needs_background": "light"
     },
     "output_type": "display_data"
    }
   ],
   "source": [
    "data[data.target == 1].len.plot(kind='hist', title=\"Длина малвари\");"
   ]
  },
  {
   "cell_type": "code",
   "execution_count": 6,
   "metadata": {},
   "outputs": [
    {
     "data": {
      "image/png": "[encoded data removed]",
      "text/plain": [
       "<Figure size 432x288 with 1 Axes>"
      ]
     },
     "metadata": {
      "needs_background": "light"
     },
     "output_type": "display_data"
    }
   ],
   "source": [
    "data[data.target == 0].len.plot(kind='hist', title=\"Длина норм\");"
   ]
  },
  {
   "cell_type": "markdown",
   "metadata": {},
   "source": [
    "### TLD и домены"
   ]
  },
  {
   "cell_type": "code",
   "execution_count": 7,
   "metadata": {
    "scrolled": true
   },
   "outputs": [
    {
     "data": {
      "text/plain": [
       "ExtractResult(subdomain='', domain='hofunokpicm', suffix='kz')"
      ]
     },
     "execution_count": 7,
     "metadata": {},
     "output_type": "execute_result"
    }
   ],
   "source": [
    "tldextract.extract(data.url[3]) "
   ]
  },
  {
   "cell_type": "code",
   "execution_count": 8,
   "metadata": {},
   "outputs": [
    {
     "data": {
      "text/html": [
       "<div>\n",
       "<style scoped>\n",
       "    .dataframe tbody tr th:only-of-type {\n",
       "        vertical-align: middle;\n",
       "    }\n",
       "\n",
       "    .dataframe tbody tr th {\n",
       "        vertical-align: top;\n",
       "    }\n",
       "\n",
       "    .dataframe thead th {\n",
       "        text-align: right;\n",
       "    }\n",
       "</style>\n",
       "<table border=\"1\" class=\"dataframe\">\n",
       "  <thead>\n",
       "    <tr style=\"text-align: right;\">\n",
       "      <th></th>\n",
       "      <th>url</th>\n",
       "      <th>target</th>\n",
       "      <th>len</th>\n",
       "      <th>suffixes</th>\n",
       "      <th>domains</th>\n",
       "    </tr>\n",
       "  </thead>\n",
       "  <tbody>\n",
       "    <tr>\n",
       "      <th>0</th>\n",
       "      <td>bcegjkbeggjm.info</td>\n",
       "      <td>1</td>\n",
       "      <td>17</td>\n",
       "      <td>info</td>\n",
       "      <td>bcegjkbeggjm</td>\n",
       "    </tr>\n",
       "    <tr>\n",
       "      <th>1</th>\n",
       "      <td>farmandfleet.com</td>\n",
       "      <td>0</td>\n",
       "      <td>16</td>\n",
       "      <td>com</td>\n",
       "      <td>farmandfleet</td>\n",
       "    </tr>\n",
       "    <tr>\n",
       "      <th>2</th>\n",
       "      <td>sought-perl.pro</td>\n",
       "      <td>1</td>\n",
       "      <td>15</td>\n",
       "      <td>pro</td>\n",
       "      <td>sought-perl</td>\n",
       "    </tr>\n",
       "    <tr>\n",
       "      <th>3</th>\n",
       "      <td>hofunokpicm.kz</td>\n",
       "      <td>1</td>\n",
       "      <td>14</td>\n",
       "      <td>kz</td>\n",
       "      <td>hofunokpicm</td>\n",
       "    </tr>\n",
       "    <tr>\n",
       "      <th>4</th>\n",
       "      <td>datasysco.ir</td>\n",
       "      <td>0</td>\n",
       "      <td>12</td>\n",
       "      <td>ir</td>\n",
       "      <td>datasysco</td>\n",
       "    </tr>\n",
       "    <tr>\n",
       "      <th>...</th>\n",
       "      <td>...</td>\n",
       "      <td>...</td>\n",
       "      <td>...</td>\n",
       "      <td>...</td>\n",
       "      <td>...</td>\n",
       "    </tr>\n",
       "    <tr>\n",
       "      <th>25995</th>\n",
       "      <td>ymdiestnessbiophysicalohax.com</td>\n",
       "      <td>1</td>\n",
       "      <td>30</td>\n",
       "      <td>com</td>\n",
       "      <td>ymdiestnessbiophysicalohax</td>\n",
       "    </tr>\n",
       "    <tr>\n",
       "      <th>25996</th>\n",
       "      <td>kkbluxexnbhejavnmkfy.com</td>\n",
       "      <td>1</td>\n",
       "      <td>24</td>\n",
       "      <td>com</td>\n",
       "      <td>kkbluxexnbhejavnmkfy</td>\n",
       "    </tr>\n",
       "    <tr>\n",
       "      <th>25997</th>\n",
       "      <td>mswxtlhqor.cc</td>\n",
       "      <td>1</td>\n",
       "      <td>13</td>\n",
       "      <td>cc</td>\n",
       "      <td>mswxtlhqor</td>\n",
       "    </tr>\n",
       "    <tr>\n",
       "      <th>25998</th>\n",
       "      <td>skrynya.ua</td>\n",
       "      <td>0</td>\n",
       "      <td>10</td>\n",
       "      <td>ua</td>\n",
       "      <td>skrynya</td>\n",
       "    </tr>\n",
       "    <tr>\n",
       "      <th>25999</th>\n",
       "      <td>dcggkmdeigko.com</td>\n",
       "      <td>1</td>\n",
       "      <td>16</td>\n",
       "      <td>com</td>\n",
       "      <td>dcggkmdeigko</td>\n",
       "    </tr>\n",
       "  </tbody>\n",
       "</table>\n",
       "<p>26000 rows × 5 columns</p>\n",
       "</div>"
      ],
      "text/plain": [
       "                                  url  target  len suffixes  \\\n",
       "0                   bcegjkbeggjm.info       1   17     info   \n",
       "1                    farmandfleet.com       0   16      com   \n",
       "2                     sought-perl.pro       1   15      pro   \n",
       "3                      hofunokpicm.kz       1   14       kz   \n",
       "4                        datasysco.ir       0   12       ir   \n",
       "...                               ...     ...  ...      ...   \n",
       "25995  ymdiestnessbiophysicalohax.com       1   30      com   \n",
       "25996        kkbluxexnbhejavnmkfy.com       1   24      com   \n",
       "25997                   mswxtlhqor.cc       1   13       cc   \n",
       "25998                      skrynya.ua       0   10       ua   \n",
       "25999                dcggkmdeigko.com       1   16      com   \n",
       "\n",
       "                          domains  \n",
       "0                    bcegjkbeggjm  \n",
       "1                    farmandfleet  \n",
       "2                     sought-perl  \n",
       "3                     hofunokpicm  \n",
       "4                       datasysco  \n",
       "...                           ...  \n",
       "25995  ymdiestnessbiophysicalohax  \n",
       "25996        kkbluxexnbhejavnmkfy  \n",
       "25997                  mswxtlhqor  \n",
       "25998                     skrynya  \n",
       "25999                dcggkmdeigko  \n",
       "\n",
       "[26000 rows x 5 columns]"
      ]
     },
     "execution_count": 8,
     "metadata": {},
     "output_type": "execute_result"
    }
   ],
   "source": [
    "data['suffixes'] = data.url.apply(lambda url: tldextract.extract(url).suffix)\n",
    "data['domains'] = data.url.apply(lambda url: tldextract.extract(url).domain)\n",
    "data"
   ]
  },
  {
   "cell_type": "markdown",
   "metadata": {},
   "source": [
    "### Гласные/согласные/цифры"
   ]
  },
  {
   "cell_type": "code",
   "execution_count": 9,
   "metadata": {},
   "outputs": [],
   "source": [
    "def get_vowels(word):\n",
    "    vowels = set('aeiou')  \n",
    "    result = {\n",
    "        #'vowels_count': 0, \n",
    "        'consonants_count': 0,\n",
    "        'number_count': 0\n",
    "    }\n",
    "    for letter in word.lower():\n",
    "        if letter in vowels:\n",
    "            #result['vowels_count'] += 1\n",
    "            pass\n",
    "        elif letter.isdigit():\n",
    "            result['number_count'] += 1\n",
    "        else:\n",
    "            result['consonants_count'] += 1\n",
    "    return result\n",
    "            "
   ]
  },
  {
   "cell_type": "code",
   "execution_count": 10,
   "metadata": {},
   "outputs": [],
   "source": [
    "words_info_df = pd.DataFrame.from_records(data.domains.apply(get_vowels).values)"
   ]
  },
  {
   "cell_type": "code",
   "execution_count": 11,
   "metadata": {},
   "outputs": [
    {
     "data": {
      "text/html": [
       "<div>\n",
       "<style scoped>\n",
       "    .dataframe tbody tr th:only-of-type {\n",
       "        vertical-align: middle;\n",
       "    }\n",
       "\n",
       "    .dataframe tbody tr th {\n",
       "        vertical-align: top;\n",
       "    }\n",
       "\n",
       "    .dataframe thead th {\n",
       "        text-align: right;\n",
       "    }\n",
       "</style>\n",
       "<table border=\"1\" class=\"dataframe\">\n",
       "  <thead>\n",
       "    <tr style=\"text-align: right;\">\n",
       "      <th></th>\n",
       "      <th>consonants_count</th>\n",
       "      <th>number_count</th>\n",
       "    </tr>\n",
       "  </thead>\n",
       "  <tbody>\n",
       "    <tr>\n",
       "      <th>0</th>\n",
       "      <td>10</td>\n",
       "      <td>0</td>\n",
       "    </tr>\n",
       "    <tr>\n",
       "      <th>1</th>\n",
       "      <td>8</td>\n",
       "      <td>0</td>\n",
       "    </tr>\n",
       "    <tr>\n",
       "      <th>2</th>\n",
       "      <td>8</td>\n",
       "      <td>0</td>\n",
       "    </tr>\n",
       "    <tr>\n",
       "      <th>3</th>\n",
       "      <td>7</td>\n",
       "      <td>0</td>\n",
       "    </tr>\n",
       "    <tr>\n",
       "      <th>4</th>\n",
       "      <td>6</td>\n",
       "      <td>0</td>\n",
       "    </tr>\n",
       "    <tr>\n",
       "      <th>...</th>\n",
       "      <td>...</td>\n",
       "      <td>...</td>\n",
       "    </tr>\n",
       "    <tr>\n",
       "      <th>25995</th>\n",
       "      <td>17</td>\n",
       "      <td>0</td>\n",
       "    </tr>\n",
       "    <tr>\n",
       "      <th>25996</th>\n",
       "      <td>16</td>\n",
       "      <td>0</td>\n",
       "    </tr>\n",
       "    <tr>\n",
       "      <th>25997</th>\n",
       "      <td>9</td>\n",
       "      <td>0</td>\n",
       "    </tr>\n",
       "    <tr>\n",
       "      <th>25998</th>\n",
       "      <td>6</td>\n",
       "      <td>0</td>\n",
       "    </tr>\n",
       "    <tr>\n",
       "      <th>25999</th>\n",
       "      <td>9</td>\n",
       "      <td>0</td>\n",
       "    </tr>\n",
       "  </tbody>\n",
       "</table>\n",
       "<p>26000 rows × 2 columns</p>\n",
       "</div>"
      ],
      "text/plain": [
       "       consonants_count  number_count\n",
       "0                    10             0\n",
       "1                     8             0\n",
       "2                     8             0\n",
       "3                     7             0\n",
       "4                     6             0\n",
       "...                 ...           ...\n",
       "25995                17             0\n",
       "25996                16             0\n",
       "25997                 9             0\n",
       "25998                 6             0\n",
       "25999                 9             0\n",
       "\n",
       "[26000 rows x 2 columns]"
      ]
     },
     "execution_count": 11,
     "metadata": {},
     "output_type": "execute_result"
    }
   ],
   "source": [
    "words_info_df"
   ]
  },
  {
   "cell_type": "code",
   "execution_count": 12,
   "metadata": {},
   "outputs": [],
   "source": [
    "data = pd.concat([data, words_info_df], axis=1)"
   ]
  },
  {
   "cell_type": "code",
   "execution_count": 13,
   "metadata": {},
   "outputs": [],
   "source": [
    "def get_domain_words_len(domain):\n",
    "    words = wordninja.split(domain)\n",
    "    return {'domain_words_len': len(words)}"
   ]
  },
  {
   "cell_type": "code",
   "execution_count": 14,
   "metadata": {
    "scrolled": true
   },
   "outputs": [
    {
     "data": {
      "text/html": [
       "<div>\n",
       "<style scoped>\n",
       "    .dataframe tbody tr th:only-of-type {\n",
       "        vertical-align: middle;\n",
       "    }\n",
       "\n",
       "    .dataframe tbody tr th {\n",
       "        vertical-align: top;\n",
       "    }\n",
       "\n",
       "    .dataframe thead th {\n",
       "        text-align: right;\n",
       "    }\n",
       "</style>\n",
       "<table border=\"1\" class=\"dataframe\">\n",
       "  <thead>\n",
       "    <tr style=\"text-align: right;\">\n",
       "      <th></th>\n",
       "      <th>domain_words_len</th>\n",
       "    </tr>\n",
       "  </thead>\n",
       "  <tbody>\n",
       "    <tr>\n",
       "      <th>0</th>\n",
       "      <td>6</td>\n",
       "    </tr>\n",
       "    <tr>\n",
       "      <th>1</th>\n",
       "      <td>3</td>\n",
       "    </tr>\n",
       "    <tr>\n",
       "      <th>2</th>\n",
       "      <td>2</td>\n",
       "    </tr>\n",
       "    <tr>\n",
       "      <th>3</th>\n",
       "      <td>5</td>\n",
       "    </tr>\n",
       "    <tr>\n",
       "      <th>4</th>\n",
       "      <td>3</td>\n",
       "    </tr>\n",
       "    <tr>\n",
       "      <th>...</th>\n",
       "      <td>...</td>\n",
       "    </tr>\n",
       "    <tr>\n",
       "      <th>25995</th>\n",
       "      <td>9</td>\n",
       "    </tr>\n",
       "    <tr>\n",
       "      <th>25996</th>\n",
       "      <td>9</td>\n",
       "    </tr>\n",
       "    <tr>\n",
       "      <th>25997</th>\n",
       "      <td>6</td>\n",
       "    </tr>\n",
       "    <tr>\n",
       "      <th>25998</th>\n",
       "      <td>3</td>\n",
       "    </tr>\n",
       "    <tr>\n",
       "      <th>25999</th>\n",
       "      <td>6</td>\n",
       "    </tr>\n",
       "  </tbody>\n",
       "</table>\n",
       "<p>26000 rows × 1 columns</p>\n",
       "</div>"
      ],
      "text/plain": [
       "       domain_words_len\n",
       "0                     6\n",
       "1                     3\n",
       "2                     2\n",
       "3                     5\n",
       "4                     3\n",
       "...                 ...\n",
       "25995                 9\n",
       "25996                 9\n",
       "25997                 6\n",
       "25998                 3\n",
       "25999                 6\n",
       "\n",
       "[26000 rows x 1 columns]"
      ]
     },
     "execution_count": 14,
     "metadata": {},
     "output_type": "execute_result"
    }
   ],
   "source": [
    "domain_words_df = pd.DataFrame.from_records(data.domains.apply(get_domain_words_len).values)\n",
    "domain_words_df"
   ]
  },
  {
   "cell_type": "code",
   "execution_count": 15,
   "metadata": {},
   "outputs": [],
   "source": [
    "data = pd.concat([data, domain_words_df], axis=1)"
   ]
  },
  {
   "cell_type": "code",
   "execution_count": 16,
   "metadata": {
    "scrolled": true
   },
   "outputs": [
    {
     "data": {
      "text/html": [
       "<div>\n",
       "<style scoped>\n",
       "    .dataframe tbody tr th:only-of-type {\n",
       "        vertical-align: middle;\n",
       "    }\n",
       "\n",
       "    .dataframe tbody tr th {\n",
       "        vertical-align: top;\n",
       "    }\n",
       "\n",
       "    .dataframe thead th {\n",
       "        text-align: right;\n",
       "    }\n",
       "</style>\n",
       "<table border=\"1\" class=\"dataframe\">\n",
       "  <thead>\n",
       "    <tr style=\"text-align: right;\">\n",
       "      <th></th>\n",
       "      <th>url</th>\n",
       "      <th>target</th>\n",
       "      <th>len</th>\n",
       "      <th>suffixes</th>\n",
       "      <th>domains</th>\n",
       "      <th>consonants_count</th>\n",
       "      <th>number_count</th>\n",
       "      <th>domain_words_len</th>\n",
       "    </tr>\n",
       "  </thead>\n",
       "  <tbody>\n",
       "    <tr>\n",
       "      <th>0</th>\n",
       "      <td>bcegjkbeggjm.info</td>\n",
       "      <td>1</td>\n",
       "      <td>17</td>\n",
       "      <td>info</td>\n",
       "      <td>bcegjkbeggjm</td>\n",
       "      <td>10</td>\n",
       "      <td>0</td>\n",
       "      <td>6</td>\n",
       "    </tr>\n",
       "    <tr>\n",
       "      <th>1</th>\n",
       "      <td>farmandfleet.com</td>\n",
       "      <td>0</td>\n",
       "      <td>16</td>\n",
       "      <td>com</td>\n",
       "      <td>farmandfleet</td>\n",
       "      <td>8</td>\n",
       "      <td>0</td>\n",
       "      <td>3</td>\n",
       "    </tr>\n",
       "    <tr>\n",
       "      <th>2</th>\n",
       "      <td>sought-perl.pro</td>\n",
       "      <td>1</td>\n",
       "      <td>15</td>\n",
       "      <td>pro</td>\n",
       "      <td>sought-perl</td>\n",
       "      <td>8</td>\n",
       "      <td>0</td>\n",
       "      <td>2</td>\n",
       "    </tr>\n",
       "    <tr>\n",
       "      <th>3</th>\n",
       "      <td>hofunokpicm.kz</td>\n",
       "      <td>1</td>\n",
       "      <td>14</td>\n",
       "      <td>kz</td>\n",
       "      <td>hofunokpicm</td>\n",
       "      <td>7</td>\n",
       "      <td>0</td>\n",
       "      <td>5</td>\n",
       "    </tr>\n",
       "    <tr>\n",
       "      <th>4</th>\n",
       "      <td>datasysco.ir</td>\n",
       "      <td>0</td>\n",
       "      <td>12</td>\n",
       "      <td>ir</td>\n",
       "      <td>datasysco</td>\n",
       "      <td>6</td>\n",
       "      <td>0</td>\n",
       "      <td>3</td>\n",
       "    </tr>\n",
       "    <tr>\n",
       "      <th>...</th>\n",
       "      <td>...</td>\n",
       "      <td>...</td>\n",
       "      <td>...</td>\n",
       "      <td>...</td>\n",
       "      <td>...</td>\n",
       "      <td>...</td>\n",
       "      <td>...</td>\n",
       "      <td>...</td>\n",
       "    </tr>\n",
       "    <tr>\n",
       "      <th>25995</th>\n",
       "      <td>ymdiestnessbiophysicalohax.com</td>\n",
       "      <td>1</td>\n",
       "      <td>30</td>\n",
       "      <td>com</td>\n",
       "      <td>ymdiestnessbiophysicalohax</td>\n",
       "      <td>17</td>\n",
       "      <td>0</td>\n",
       "      <td>9</td>\n",
       "    </tr>\n",
       "    <tr>\n",
       "      <th>25996</th>\n",
       "      <td>kkbluxexnbhejavnmkfy.com</td>\n",
       "      <td>1</td>\n",
       "      <td>24</td>\n",
       "      <td>com</td>\n",
       "      <td>kkbluxexnbhejavnmkfy</td>\n",
       "      <td>16</td>\n",
       "      <td>0</td>\n",
       "      <td>9</td>\n",
       "    </tr>\n",
       "    <tr>\n",
       "      <th>25997</th>\n",
       "      <td>mswxtlhqor.cc</td>\n",
       "      <td>1</td>\n",
       "      <td>13</td>\n",
       "      <td>cc</td>\n",
       "      <td>mswxtlhqor</td>\n",
       "      <td>9</td>\n",
       "      <td>0</td>\n",
       "      <td>6</td>\n",
       "    </tr>\n",
       "    <tr>\n",
       "      <th>25998</th>\n",
       "      <td>skrynya.ua</td>\n",
       "      <td>0</td>\n",
       "      <td>10</td>\n",
       "      <td>ua</td>\n",
       "      <td>skrynya</td>\n",
       "      <td>6</td>\n",
       "      <td>0</td>\n",
       "      <td>3</td>\n",
       "    </tr>\n",
       "    <tr>\n",
       "      <th>25999</th>\n",
       "      <td>dcggkmdeigko.com</td>\n",
       "      <td>1</td>\n",
       "      <td>16</td>\n",
       "      <td>com</td>\n",
       "      <td>dcggkmdeigko</td>\n",
       "      <td>9</td>\n",
       "      <td>0</td>\n",
       "      <td>6</td>\n",
       "    </tr>\n",
       "  </tbody>\n",
       "</table>\n",
       "<p>26000 rows × 8 columns</p>\n",
       "</div>"
      ],
      "text/plain": [
       "                                  url  target  len suffixes  \\\n",
       "0                   bcegjkbeggjm.info       1   17     info   \n",
       "1                    farmandfleet.com       0   16      com   \n",
       "2                     sought-perl.pro       1   15      pro   \n",
       "3                      hofunokpicm.kz       1   14       kz   \n",
       "4                        datasysco.ir       0   12       ir   \n",
       "...                               ...     ...  ...      ...   \n",
       "25995  ymdiestnessbiophysicalohax.com       1   30      com   \n",
       "25996        kkbluxexnbhejavnmkfy.com       1   24      com   \n",
       "25997                   mswxtlhqor.cc       1   13       cc   \n",
       "25998                      skrynya.ua       0   10       ua   \n",
       "25999                dcggkmdeigko.com       1   16      com   \n",
       "\n",
       "                          domains  consonants_count  number_count  \\\n",
       "0                    bcegjkbeggjm                10             0   \n",
       "1                    farmandfleet                 8             0   \n",
       "2                     sought-perl                 8             0   \n",
       "3                     hofunokpicm                 7             0   \n",
       "4                       datasysco                 6             0   \n",
       "...                           ...               ...           ...   \n",
       "25995  ymdiestnessbiophysicalohax                17             0   \n",
       "25996        kkbluxexnbhejavnmkfy                16             0   \n",
       "25997                  mswxtlhqor                 9             0   \n",
       "25998                     skrynya                 6             0   \n",
       "25999                dcggkmdeigko                 9             0   \n",
       "\n",
       "       domain_words_len  \n",
       "0                     6  \n",
       "1                     3  \n",
       "2                     2  \n",
       "3                     5  \n",
       "4                     3  \n",
       "...                 ...  \n",
       "25995                 9  \n",
       "25996                 9  \n",
       "25997                 6  \n",
       "25998                 3  \n",
       "25999                 6  \n",
       "\n",
       "[26000 rows x 8 columns]"
      ]
     },
     "execution_count": 16,
     "metadata": {},
     "output_type": "execute_result"
    }
   ],
   "source": [
    "data"
   ]
  },
  {
   "cell_type": "markdown",
   "metadata": {},
   "source": [
    "### Ф-ция для превращения списка ссылок в фичи"
   ]
  },
  {
   "cell_type": "code",
   "execution_count": 17,
   "metadata": {},
   "outputs": [],
   "source": [
    "def convert_to_features(urls: list):\n",
    "    result_rows = []\n",
    "    for url in urls:\n",
    "        domain_cut = tldextract.extract(url).domain\n",
    "        url_row = get_vowels(domain_cut)\n",
    "        #del url_row['vowels_count']\n",
    "        url_row['len'] = len(domain_cut)\n",
    "        url_row['domain_words_len'] = get_domain_words_len(domain_cut)['domain_words_len']\n",
    "        result_rows.append(url_row)\n",
    "    return pd.DataFrame.from_records(result_rows)"
   ]
  },
  {
   "cell_type": "markdown",
   "metadata": {},
   "source": [
    "# Делим датасет"
   ]
  },
  {
   "cell_type": "code",
   "execution_count": 18,
   "metadata": {},
   "outputs": [],
   "source": [
    "#X = data[['len', 'vowels_count', 'consonants_count', 'number_count', 'domain_words_len']]\n",
    "X = data[['len', 'consonants_count', 'number_count', 'domain_words_len']]\n",
    "y = data.target"
   ]
  },
  {
   "cell_type": "code",
   "execution_count": 19,
   "metadata": {},
   "outputs": [
    {
     "data": {
      "text/html": [
       "<div>\n",
       "<style scoped>\n",
       "    .dataframe tbody tr th:only-of-type {\n",
       "        vertical-align: middle;\n",
       "    }\n",
       "\n",
       "    .dataframe tbody tr th {\n",
       "        vertical-align: top;\n",
       "    }\n",
       "\n",
       "    .dataframe thead th {\n",
       "        text-align: right;\n",
       "    }\n",
       "</style>\n",
       "<table border=\"1\" class=\"dataframe\">\n",
       "  <thead>\n",
       "    <tr style=\"text-align: right;\">\n",
       "      <th></th>\n",
       "      <th>len</th>\n",
       "      <th>consonants_count</th>\n",
       "      <th>number_count</th>\n",
       "      <th>domain_words_len</th>\n",
       "    </tr>\n",
       "  </thead>\n",
       "  <tbody>\n",
       "    <tr>\n",
       "      <th>0</th>\n",
       "      <td>17</td>\n",
       "      <td>10</td>\n",
       "      <td>0</td>\n",
       "      <td>6</td>\n",
       "    </tr>\n",
       "    <tr>\n",
       "      <th>1</th>\n",
       "      <td>16</td>\n",
       "      <td>8</td>\n",
       "      <td>0</td>\n",
       "      <td>3</td>\n",
       "    </tr>\n",
       "    <tr>\n",
       "      <th>2</th>\n",
       "      <td>15</td>\n",
       "      <td>8</td>\n",
       "      <td>0</td>\n",
       "      <td>2</td>\n",
       "    </tr>\n",
       "    <tr>\n",
       "      <th>3</th>\n",
       "      <td>14</td>\n",
       "      <td>7</td>\n",
       "      <td>0</td>\n",
       "      <td>5</td>\n",
       "    </tr>\n",
       "    <tr>\n",
       "      <th>4</th>\n",
       "      <td>12</td>\n",
       "      <td>6</td>\n",
       "      <td>0</td>\n",
       "      <td>3</td>\n",
       "    </tr>\n",
       "    <tr>\n",
       "      <th>...</th>\n",
       "      <td>...</td>\n",
       "      <td>...</td>\n",
       "      <td>...</td>\n",
       "      <td>...</td>\n",
       "    </tr>\n",
       "    <tr>\n",
       "      <th>25995</th>\n",
       "      <td>30</td>\n",
       "      <td>17</td>\n",
       "      <td>0</td>\n",
       "      <td>9</td>\n",
       "    </tr>\n",
       "    <tr>\n",
       "      <th>25996</th>\n",
       "      <td>24</td>\n",
       "      <td>16</td>\n",
       "      <td>0</td>\n",
       "      <td>9</td>\n",
       "    </tr>\n",
       "    <tr>\n",
       "      <th>25997</th>\n",
       "      <td>13</td>\n",
       "      <td>9</td>\n",
       "      <td>0</td>\n",
       "      <td>6</td>\n",
       "    </tr>\n",
       "    <tr>\n",
       "      <th>25998</th>\n",
       "      <td>10</td>\n",
       "      <td>6</td>\n",
       "      <td>0</td>\n",
       "      <td>3</td>\n",
       "    </tr>\n",
       "    <tr>\n",
       "      <th>25999</th>\n",
       "      <td>16</td>\n",
       "      <td>9</td>\n",
       "      <td>0</td>\n",
       "      <td>6</td>\n",
       "    </tr>\n",
       "  </tbody>\n",
       "</table>\n",
       "<p>26000 rows × 4 columns</p>\n",
       "</div>"
      ],
      "text/plain": [
       "       len  consonants_count  number_count  domain_words_len\n",
       "0       17                10             0                 6\n",
       "1       16                 8             0                 3\n",
       "2       15                 8             0                 2\n",
       "3       14                 7             0                 5\n",
       "4       12                 6             0                 3\n",
       "...    ...               ...           ...               ...\n",
       "25995   30                17             0                 9\n",
       "25996   24                16             0                 9\n",
       "25997   13                 9             0                 6\n",
       "25998   10                 6             0                 3\n",
       "25999   16                 9             0                 6\n",
       "\n",
       "[26000 rows x 4 columns]"
      ]
     },
     "execution_count": 19,
     "metadata": {},
     "output_type": "execute_result"
    }
   ],
   "source": [
    "X"
   ]
  },
  {
   "cell_type": "code",
   "execution_count": 20,
   "metadata": {},
   "outputs": [],
   "source": [
    "X_train, X_test, y_train, y_test = train_test_split(X,y,test_size=0.25)"
   ]
  },
  {
   "cell_type": "markdown",
   "metadata": {},
   "source": [
    "## KNN (baseline)"
   ]
  },
  {
   "cell_type": "code",
   "execution_count": 21,
   "metadata": {},
   "outputs": [],
   "source": [
    "KNN = KNeighborsClassifier(n_neighbors=15)"
   ]
  },
  {
   "cell_type": "code",
   "execution_count": 22,
   "metadata": {},
   "outputs": [],
   "source": [
    "KNN = pickle.load(open('KNN_model.sav', 'rb'))"
   ]
  },
  {
   "cell_type": "code",
   "execution_count": 23,
   "metadata": {},
   "outputs": [],
   "source": [
    "scoring = ['accuracy', 'roc-auc']"
   ]
  },
  {
   "cell_type": "code",
   "execution_count": 24,
   "metadata": {},
   "outputs": [
    {
     "name": "stdout",
     "output_type": "stream",
     "text": [
      "0.8682692307692308\n"
     ]
    }
   ],
   "source": [
    "scores = cross_val_score(KNN, X, y, cv=10, scoring='roc_auc')\n",
    "acc_scores = cross_val_score(KNN, X, y, cv=10, scoring='accuracy')\n",
    "print(acc_scores.mean())"
   ]
  },
  {
   "cell_type": "code",
   "execution_count": 25,
   "metadata": {},
   "outputs": [
    {
     "data": {
      "text/plain": [
       "0.9393958284023668"
      ]
     },
     "execution_count": 25,
     "metadata": {},
     "output_type": "execute_result"
    }
   ],
   "source": [
    "scores.mean()"
   ]
  },
  {
   "cell_type": "code",
   "execution_count": 26,
   "metadata": {},
   "outputs": [
    {
     "data": {
      "text/plain": [
       "KNeighborsClassifier(n_neighbors=15)"
      ]
     },
     "execution_count": 26,
     "metadata": {},
     "output_type": "execute_result"
    }
   ],
   "source": [
    "KNN.fit(X_train, y_train)"
   ]
  },
  {
   "cell_type": "code",
   "execution_count": 27,
   "metadata": {},
   "outputs": [],
   "source": [
    "pickle.dump(KNN, open('KNN_model.sav', 'wb'))"
   ]
  },
  {
   "cell_type": "code",
   "execution_count": 28,
   "metadata": {},
   "outputs": [
    {
     "name": "stdout",
     "output_type": "stream",
     "text": [
      "0: saber.nya.pub\n",
      "1: google.com\n",
      "2: ya.ru\n",
      "3: yandex.ru\n",
      "4: wikipedia.org\n",
      "5: sabertracker.ga\n",
      "6: thfuckginmalwarecomsomefag.com\n",
      "7: 1x-bet82717.com\n",
      "8: qds1g7xhh83l1frai5d1kzjmoj.org\n",
      "9: e9wfnu20nspn1aq4zjybwyu3m.com\n",
      "10: alllawstheheagesusurpations.com\n"
     ]
    },
    {
     "data": {
      "text/html": [
       "<div>\n",
       "<style scoped>\n",
       "    .dataframe tbody tr th:only-of-type {\n",
       "        vertical-align: middle;\n",
       "    }\n",
       "\n",
       "    .dataframe tbody tr th {\n",
       "        vertical-align: top;\n",
       "    }\n",
       "\n",
       "    .dataframe thead th {\n",
       "        text-align: right;\n",
       "    }\n",
       "</style>\n",
       "<table border=\"1\" class=\"dataframe\">\n",
       "  <thead>\n",
       "    <tr style=\"text-align: right;\">\n",
       "      <th></th>\n",
       "      <th>consonants_count</th>\n",
       "      <th>number_count</th>\n",
       "      <th>len</th>\n",
       "      <th>domain_words_len</th>\n",
       "    </tr>\n",
       "  </thead>\n",
       "  <tbody>\n",
       "    <tr>\n",
       "      <th>0</th>\n",
       "      <td>2</td>\n",
       "      <td>0</td>\n",
       "      <td>3</td>\n",
       "      <td>1</td>\n",
       "    </tr>\n",
       "    <tr>\n",
       "      <th>1</th>\n",
       "      <td>3</td>\n",
       "      <td>0</td>\n",
       "      <td>6</td>\n",
       "      <td>1</td>\n",
       "    </tr>\n",
       "    <tr>\n",
       "      <th>2</th>\n",
       "      <td>1</td>\n",
       "      <td>0</td>\n",
       "      <td>2</td>\n",
       "      <td>1</td>\n",
       "    </tr>\n",
       "    <tr>\n",
       "      <th>3</th>\n",
       "      <td>4</td>\n",
       "      <td>0</td>\n",
       "      <td>6</td>\n",
       "      <td>3</td>\n",
       "    </tr>\n",
       "    <tr>\n",
       "      <th>4</th>\n",
       "      <td>4</td>\n",
       "      <td>0</td>\n",
       "      <td>9</td>\n",
       "      <td>1</td>\n",
       "    </tr>\n",
       "    <tr>\n",
       "      <th>5</th>\n",
       "      <td>8</td>\n",
       "      <td>0</td>\n",
       "      <td>12</td>\n",
       "      <td>2</td>\n",
       "    </tr>\n",
       "    <tr>\n",
       "      <th>6</th>\n",
       "      <td>17</td>\n",
       "      <td>0</td>\n",
       "      <td>26</td>\n",
       "      <td>8</td>\n",
       "    </tr>\n",
       "    <tr>\n",
       "      <th>7</th>\n",
       "      <td>4</td>\n",
       "      <td>6</td>\n",
       "      <td>11</td>\n",
       "      <td>4</td>\n",
       "    </tr>\n",
       "    <tr>\n",
       "      <th>8</th>\n",
       "      <td>16</td>\n",
       "      <td>7</td>\n",
       "      <td>26</td>\n",
       "      <td>17</td>\n",
       "    </tr>\n",
       "    <tr>\n",
       "      <th>9</th>\n",
       "      <td>15</td>\n",
       "      <td>6</td>\n",
       "      <td>25</td>\n",
       "      <td>18</td>\n",
       "    </tr>\n",
       "    <tr>\n",
       "      <th>10</th>\n",
       "      <td>16</td>\n",
       "      <td>0</td>\n",
       "      <td>27</td>\n",
       "      <td>7</td>\n",
       "    </tr>\n",
       "  </tbody>\n",
       "</table>\n",
       "</div>"
      ],
      "text/plain": [
       "    consonants_count  number_count  len  domain_words_len\n",
       "0                  2             0    3                 1\n",
       "1                  3             0    6                 1\n",
       "2                  1             0    2                 1\n",
       "3                  4             0    6                 3\n",
       "4                  4             0    9                 1\n",
       "5                  8             0   12                 2\n",
       "6                 17             0   26                 8\n",
       "7                  4             6   11                 4\n",
       "8                 16             7   26                17\n",
       "9                 15             6   25                18\n",
       "10                16             0   27                 7"
      ]
     },
     "execution_count": 28,
     "metadata": {},
     "output_type": "execute_result"
    }
   ],
   "source": [
    "our_test_data = [\n",
    "    'saber.nya.pub',\n",
    "    'google.com',\n",
    "    'ya.ru',\n",
    "    'yandex.ru',\n",
    "    'wikipedia.org',\n",
    "    'sabertracker.ga',\n",
    "    'thfuckginmalwarecomsomefag.com',\n",
    "    '1x-bet82717.com',\n",
    "    'qds1g7xhh83l1frai5d1kzjmoj.org',\n",
    "    'e9wfnu20nspn1aq4zjybwyu3m.com',\n",
    "    'alllawstheheagesusurpations.com'\n",
    "]\n",
    "our_y = convert_to_features(our_test_data)\n",
    "for a, b in zip(range(len(our_test_data)), our_test_data):\n",
    "    print(f'{a}: {b}')\n",
    "our_y"
   ]
  },
  {
   "cell_type": "code",
   "execution_count": 29,
   "metadata": {
    "scrolled": true
   },
   "outputs": [
    {
     "data": {
      "text/plain": [
       "array([0, 0, 0, 0, 0, 0, 1, 0, 1, 1, 1], dtype=int64)"
      ]
     },
     "execution_count": 29,
     "metadata": {},
     "output_type": "execute_result"
    }
   ],
   "source": [
    "KNN.predict(our_y)"
   ]
  },
  {
   "cell_type": "markdown",
   "metadata": {},
   "source": [
    "## <span style=\"color:green\">Пробуем деревья </span> 🌲"
   ]
  },
  {
   "cell_type": "code",
   "execution_count": 30,
   "metadata": {},
   "outputs": [],
   "source": [
    "DTreeClassifier = DecisionTreeClassifier(splitter='best')"
   ]
  },
  {
   "cell_type": "code",
   "execution_count": 31,
   "metadata": {},
   "outputs": [],
   "source": [
    "DTreeClassifier = pickle.load(open('DTreeClassifier_model.sav', 'rb'))"
   ]
  },
  {
   "cell_type": "code",
   "execution_count": 32,
   "metadata": {},
   "outputs": [
    {
     "name": "stdout",
     "output_type": "stream",
     "text": [
      "0.8737307692307692\n"
     ]
    }
   ],
   "source": [
    "scores = cross_val_score(DTreeClassifier, X, y, cv=5, scoring='roc_auc')\n",
    "acc_scores = cross_val_score(DTreeClassifier, X, y, cv=5, scoring='accuracy')\n",
    "print(acc_scores.mean())"
   ]
  },
  {
   "cell_type": "code",
   "execution_count": 33,
   "metadata": {},
   "outputs": [
    {
     "data": {
      "text/plain": [
       "0.9384683284023669"
      ]
     },
     "execution_count": 33,
     "metadata": {},
     "output_type": "execute_result"
    }
   ],
   "source": [
    "scores.mean()"
   ]
  },
  {
   "cell_type": "code",
   "execution_count": 34,
   "metadata": {
    "scrolled": true
   },
   "outputs": [
    {
     "data": {
      "text/plain": [
       "array([0, 0, 0, 0, 0, 0, 1, 1, 1, 1, 1], dtype=int64)"
      ]
     },
     "execution_count": 34,
     "metadata": {},
     "output_type": "execute_result"
    }
   ],
   "source": [
    "DTreeClassifier.fit(X_train, y_train)\n",
    "DTreeClassifier.predict(our_y)"
   ]
  },
  {
   "cell_type": "code",
   "execution_count": 35,
   "metadata": {},
   "outputs": [],
   "source": [
    "pickle.dump(DTreeClassifier, open('DTreeClassifier_model.sav', 'wb'))"
   ]
  },
  {
   "cell_type": "markdown",
   "metadata": {},
   "source": [
    "## SVM"
   ]
  },
  {
   "cell_type": "code",
   "execution_count": 36,
   "metadata": {},
   "outputs": [],
   "source": [
    "clf = SVC(C=10, class_weight='balanced')"
   ]
  },
  {
   "cell_type": "code",
   "execution_count": 37,
   "metadata": {},
   "outputs": [],
   "source": [
    "clf = pickle.load(open('clf_model.sav', 'rb'))"
   ]
  },
  {
   "cell_type": "code",
   "execution_count": 38,
   "metadata": {},
   "outputs": [],
   "source": [
    "scores = cross_val_score(clf, X, y, cv=5, scoring='roc_auc')"
   ]
  },
  {
   "cell_type": "code",
   "execution_count": 39,
   "metadata": {},
   "outputs": [
    {
     "data": {
      "text/plain": [
       "0.9177438461538461"
      ]
     },
     "execution_count": 39,
     "metadata": {},
     "output_type": "execute_result"
    }
   ],
   "source": [
    "scores.mean()"
   ]
  },
  {
   "cell_type": "code",
   "execution_count": 40,
   "metadata": {},
   "outputs": [
    {
     "data": {
      "text/plain": [
       "array([1, 1, 1, 1, 1, 1, 1, 1, 1, 1, 1], dtype=int64)"
      ]
     },
     "execution_count": 40,
     "metadata": {},
     "output_type": "execute_result"
    }
   ],
   "source": [
    "clf.fit(X_train, y_train)\n",
    "clf.predict(our_y)"
   ]
  },
  {
   "cell_type": "code",
   "execution_count": 41,
   "metadata": {},
   "outputs": [],
   "source": [
    "pickle.dump(clf, open('clf_model.sav', 'wb'))"
   ]
  },
  {
   "cell_type": "markdown",
   "metadata": {},
   "source": [
    "## Logistic Regression"
   ]
  },
  {
   "cell_type": "code",
   "execution_count": 42,
   "metadata": {},
   "outputs": [],
   "source": [
    "lr = LogisticRegression(solver='liblinear', penalty='l2' , multi_class='ovr')\n"
   ]
  },
  {
   "cell_type": "code",
   "execution_count": 43,
   "metadata": {},
   "outputs": [],
   "source": [
    "lr = pickle.load(open('lr_model.sav', 'rb'))"
   ]
  },
  {
   "cell_type": "code",
   "execution_count": 44,
   "metadata": {},
   "outputs": [],
   "source": [
    "scores = cross_val_score(lr, X, y, cv=5, scoring='roc_auc')"
   ]
  },
  {
   "cell_type": "code",
   "execution_count": 45,
   "metadata": {},
   "outputs": [
    {
     "data": {
      "text/plain": [
       "0.8470047928994082"
      ]
     },
     "execution_count": 45,
     "metadata": {},
     "output_type": "execute_result"
    }
   ],
   "source": [
    "scores.mean()"
   ]
  },
  {
   "cell_type": "code",
   "execution_count": 46,
   "metadata": {},
   "outputs": [
    {
     "data": {
      "text/plain": [
       "array([0, 0, 0, 0, 0, 0, 1, 0, 1, 1, 1], dtype=int64)"
      ]
     },
     "execution_count": 46,
     "metadata": {},
     "output_type": "execute_result"
    }
   ],
   "source": [
    "lr.fit(X_train, y_train)\n",
    "lr.predict(our_y)"
   ]
  },
  {
   "cell_type": "code",
   "execution_count": 47,
   "metadata": {},
   "outputs": [],
   "source": [
    "pickle.dump(lr, open('lr_model.sav', 'wb'))"
   ]
  },
  {
   "cell_type": "markdown",
   "metadata": {},
   "source": [
    "## Cлучайный лес"
   ]
  },
  {
   "cell_type": "code",
   "execution_count": 48,
   "metadata": {},
   "outputs": [],
   "source": [
    "rf = RandomForestClassifier(n_estimators=25, random_state=128)"
   ]
  },
  {
   "cell_type": "code",
   "execution_count": 49,
   "metadata": {},
   "outputs": [],
   "source": [
    "rf = pickle.load(open('rf_model.sav', 'rb'))"
   ]
  },
  {
   "cell_type": "code",
   "execution_count": 50,
   "metadata": {},
   "outputs": [],
   "source": [
    "scores = cross_val_score(rf, X, y, cv=5, scoring='roc_auc')"
   ]
  },
  {
   "cell_type": "code",
   "execution_count": 51,
   "metadata": {},
   "outputs": [
    {
     "data": {
      "text/plain": [
       "0.944620325443787"
      ]
     },
     "execution_count": 51,
     "metadata": {},
     "output_type": "execute_result"
    }
   ],
   "source": [
    "scores.mean()"
   ]
  },
  {
   "cell_type": "code",
   "execution_count": 52,
   "metadata": {},
   "outputs": [
    {
     "data": {
      "text/plain": [
       "array([0, 0, 0, 0, 0, 0, 1, 1, 1, 1, 1], dtype=int64)"
      ]
     },
     "execution_count": 52,
     "metadata": {},
     "output_type": "execute_result"
    }
   ],
   "source": [
    "rf.fit(X_train, y_train)\n",
    "rf.predict(our_y)"
   ]
  },
  {
   "cell_type": "code",
   "execution_count": 53,
   "metadata": {},
   "outputs": [],
   "source": [
    "pickle.dump(rf, open('rf_model.sav', 'wb'))"
   ]
  },
  {
   "cell_type": "markdown",
   "metadata": {},
   "source": [
    "# Корреляция"
   ]
  },
  {
   "cell_type": "code",
   "execution_count": 54,
   "metadata": {},
   "outputs": [
    {
     "data": {
      "text/html": [
       "<div>\n",
       "<style scoped>\n",
       "    .dataframe tbody tr th:only-of-type {\n",
       "        vertical-align: middle;\n",
       "    }\n",
       "\n",
       "    .dataframe tbody tr th {\n",
       "        vertical-align: top;\n",
       "    }\n",
       "\n",
       "    .dataframe thead th {\n",
       "        text-align: right;\n",
       "    }\n",
       "</style>\n",
       "<table border=\"1\" class=\"dataframe\">\n",
       "  <thead>\n",
       "    <tr style=\"text-align: right;\">\n",
       "      <th></th>\n",
       "      <th>target</th>\n",
       "      <th>len</th>\n",
       "      <th>consonants_count</th>\n",
       "      <th>number_count</th>\n",
       "      <th>domain_words_len</th>\n",
       "    </tr>\n",
       "  </thead>\n",
       "  <tbody>\n",
       "    <tr>\n",
       "      <th>target</th>\n",
       "      <td>1.000000</td>\n",
       "      <td>0.230374</td>\n",
       "      <td>0.256043</td>\n",
       "      <td>0.147209</td>\n",
       "      <td>0.557755</td>\n",
       "    </tr>\n",
       "    <tr>\n",
       "      <th>len</th>\n",
       "      <td>0.230374</td>\n",
       "      <td>1.000000</td>\n",
       "      <td>0.605319</td>\n",
       "      <td>0.124469</td>\n",
       "      <td>0.402520</td>\n",
       "    </tr>\n",
       "    <tr>\n",
       "      <th>consonants_count</th>\n",
       "      <td>0.256043</td>\n",
       "      <td>0.605319</td>\n",
       "      <td>1.000000</td>\n",
       "      <td>-0.229173</td>\n",
       "      <td>0.630168</td>\n",
       "    </tr>\n",
       "    <tr>\n",
       "      <th>number_count</th>\n",
       "      <td>0.147209</td>\n",
       "      <td>0.124469</td>\n",
       "      <td>-0.229173</td>\n",
       "      <td>1.000000</td>\n",
       "      <td>0.213982</td>\n",
       "    </tr>\n",
       "    <tr>\n",
       "      <th>domain_words_len</th>\n",
       "      <td>0.557755</td>\n",
       "      <td>0.402520</td>\n",
       "      <td>0.630168</td>\n",
       "      <td>0.213982</td>\n",
       "      <td>1.000000</td>\n",
       "    </tr>\n",
       "  </tbody>\n",
       "</table>\n",
       "</div>"
      ],
      "text/plain": [
       "                    target       len  consonants_count  number_count  \\\n",
       "target            1.000000  0.230374          0.256043      0.147209   \n",
       "len               0.230374  1.000000          0.605319      0.124469   \n",
       "consonants_count  0.256043  0.605319          1.000000     -0.229173   \n",
       "number_count      0.147209  0.124469         -0.229173      1.000000   \n",
       "domain_words_len  0.557755  0.402520          0.630168      0.213982   \n",
       "\n",
       "                  domain_words_len  \n",
       "target                    0.557755  \n",
       "len                       0.402520  \n",
       "consonants_count          0.630168  \n",
       "number_count              0.213982  \n",
       "domain_words_len          1.000000  "
      ]
     },
     "execution_count": 54,
     "metadata": {},
     "output_type": "execute_result"
    }
   ],
   "source": [
    "data.corr()"
   ]
  },
  {
   "cell_type": "markdown",
   "metadata": {},
   "source": [
    "# Kaggle verified TM :) (ансамбли) "
   ]
  },
  {
   "cell_type": "code",
   "execution_count": 55,
   "metadata": {},
   "outputs": [],
   "source": [
    "reg = lgb.LGBMClassifier(boosting_type=\"rf\",\n",
    "                         num_leaves=150,\n",
    "                         colsample_bytree=1,\n",
    "                         n_estimators=18,\n",
    "                         min_child_weight=0.1,\n",
    "                         objective='binary',\n",
    "                         min_child_samples=5,\n",
    "                         subsample=.632,\n",
    "                         subsample_freq=1,\n",
    "                         min_split_gain=0,\n",
    "                         reg_lambda=0, # L2 regularization\n",
    "                         n_jobs=-1)"
   ]
  },
  {
   "cell_type": "code",
   "execution_count": 56,
   "metadata": {},
   "outputs": [],
   "source": [
    "reg = pickle.load(open('lgb_model.sav', 'rb'))"
   ]
  },
  {
   "cell_type": "code",
   "execution_count": 57,
   "metadata": {},
   "outputs": [
    {
     "data": {
      "text/plain": [
       "0.9483237278106509"
      ]
     },
     "execution_count": 57,
     "metadata": {},
     "output_type": "execute_result"
    }
   ],
   "source": [
    "scores = cross_val_score(reg, X, y, cv=10, scoring='roc_auc')\n",
    "scores.mean()"
   ]
  },
  {
   "cell_type": "code",
   "execution_count": null,
   "metadata": {},
   "outputs": [
    {
     "name": "stdout",
     "output_type": "stream",
     "text": [
      "При 90 листьях скор = 0.9478655325443788\n",
      "При 105 листьях скор = 0.9481368934911242\n",
      "При 120 листьях скор = 0.9484836686390533\n",
      "При 135 листьях скор = 0.948764171597633\n",
      "При 150 листьях скор = 0.9487884911242602\n",
      "При 165 листьях скор = 0.948739674556213\n",
      "При 180 листьях скор = 0.9484739940828403\n"
     ]
    }
   ],
   "source": [
    "for leaves_n in range(90, 210, 15):\n",
    "    reg = lgb.LGBMClassifier(boosting_type=\"gbdt\",\n",
    "                         num_leaves=leaves_n,\n",
    "                         colsample_bytree=1,\n",
    "                         n_estimators=18,\n",
    "                         min_child_weight=0.1,\n",
    "                         objective='binary',\n",
    "                         min_child_samples=5,\n",
    "                         subsample=1,\n",
    "                         subsample_freq=1,\n",
    "                         min_split_gain=0,\n",
    "                         reg_lambda=0, # L2 regularization\n",
    "                         n_jobs=-1)\n",
    "    scores = cross_val_score(reg, X, y, cv=10, scoring='roc_auc')\n",
    "    print(f'При {leaves_n} листьях скор = {scores.mean()}')"
   ]
  },
  {
   "cell_type": "code",
   "execution_count": null,
   "metadata": {},
   "outputs": [],
   "source": [
    "reg.fit(X, y)"
   ]
  },
  {
   "cell_type": "code",
   "execution_count": null,
   "metadata": {},
   "outputs": [],
   "source": [
    "reg.predict(our_y)"
   ]
  },
  {
   "cell_type": "code",
   "execution_count": null,
   "metadata": {},
   "outputs": [],
   "source": [
    "pickle.dump(reg, open('lgb_model.sav', 'wb'))"
   ]
  },
  {
   "cell_type": "code",
   "execution_count": null,
   "metadata": {},
   "outputs": [],
   "source": [
    "data_test = data"
   ]
  },
  {
   "cell_type": "code",
   "execution_count": null,
   "metadata": {},
   "outputs": [],
   "source": [
    "data_test['y_pred'] = reg.predict(X)"
   ]
  },
  {
   "cell_type": "code",
   "execution_count": null,
   "metadata": {},
   "outputs": [],
   "source": [
    "data_test[['url', 'target', 'y_pred']][data.target != data.y_pred]"
   ]
  },
  {
   "cell_type": "code",
   "execution_count": null,
   "metadata": {},
   "outputs": [],
   "source": [
    "data_test[['url', 'target', 'y_pred']][data.target != data.y_pred].target.sum()"
   ]
  }
 ],
 "metadata": {
  "kernelspec": {
   "display_name": "Python 3",
   "language": "python",
   "name": "python3"
  },
  "language_info": {
   "codemirror_mode": {
    "name": "ipython",
    "version": 3
   },
   "file_extension": ".py",
   "mimetype": "text/x-python",
   "name": "python",
   "nbconvert_exporter": "python",
   "pygments_lexer": "ipython3",
   "version": "3.7.7"
  }
 },
 "nbformat": 4,
 "nbformat_minor": 4
}